{
 "cells": [
  {
   "cell_type": "code",
   "execution_count": 1,
   "metadata": {},
   "outputs": [],
   "source": [
    "class Product:\n",
    "    def __init__(self, name=\"Default\", price=0, quantity=1):\n",
    "        print(f\"An instance with name:{name} has been derived from Product class.\")\n",
    "        self.__name = name\n",
    "        self.__price = price\n",
    "        self.__quantity = quantity\n",
    "        \n",
    "        @property\n",
    "        def name(self):\n",
    "            return self.__name\n",
    "        \n",
    "        @name.setter\n",
    "        def name(self,value):\n",
    "           self.__name=value \n",
    "           \n",
    "        @property\n",
    "        def price(self):\n",
    "            return self.__price\n",
    "           \n",
    "        @price.setter\n",
    "        def price(self,value):\n",
    "           self.__price=value \n",
    "           \n",
    "        @property\n",
    "        def quantity(self):\n",
    "            return self.__quantity\n",
    "        \n",
    "        @quantity.setter\n",
    "        def quantity(self,value):\n",
    "           self.__quantity=value \n",
    "        \n",
    "        def get_total_price(self):\n",
    "            \n",
    "             return self.__price*self.__quantity\n",
    "        \n",
    "        \n",
    "        \n",
    "    \n",
    "\n"
   ]
  },
  {
   "cell_type": "code",
   "execution_count": 2,
   "metadata": {},
   "outputs": [
    {
     "name": "stdout",
     "output_type": "stream",
     "text": [
      "An instance with name:Laptop has been derived from Product class.\n",
      "HP Laptop\n"
     ]
    },
    {
     "ename": "AttributeError",
     "evalue": "'Product' object has no attribute '__price'",
     "output_type": "error",
     "traceback": [
      "\u001b[1;31m---------------------------------------------------------------------------\u001b[0m",
      "\u001b[1;31mAttributeError\u001b[0m                            Traceback (most recent call last)",
      "Cell \u001b[1;32mIn[2], line 4\u001b[0m\n\u001b[0;32m      2\u001b[0m item1\u001b[38;5;241m.\u001b[39m__name \u001b[38;5;241m=\u001b[39m \u001b[38;5;124m\"\u001b[39m\u001b[38;5;124mHP Laptop\u001b[39m\u001b[38;5;124m\"\u001b[39m\n\u001b[0;32m      3\u001b[0m \u001b[38;5;28mprint\u001b[39m(item1\u001b[38;5;241m.\u001b[39m__name)\n\u001b[1;32m----> 4\u001b[0m \u001b[38;5;28mprint\u001b[39m(\u001b[43mitem1\u001b[49m\u001b[38;5;241;43m.\u001b[39;49m\u001b[43m__price\u001b[49m)\n\u001b[0;32m      5\u001b[0m \u001b[38;5;28mprint\u001b[39m(item1\u001b[38;5;241m.\u001b[39m__quantity)\n\u001b[0;32m      6\u001b[0m \u001b[38;5;28mprint\u001b[39m(item1\u001b[38;5;241m.\u001b[39mget_total_price)\n",
      "\u001b[1;31mAttributeError\u001b[0m: 'Product' object has no attribute '__price'"
     ]
    }
   ],
   "source": [
    "item1=Product(\"Laptop\",799.99,2)\n",
    "item1.__name = \"HP Laptop\"\n",
    "print(item1.__name)\n",
    "print(item1.__price)\n",
    "print(item1.__quantity)\n",
    "print(item1.get_total_price)"
   ]
  },
  {
   "cell_type": "code",
   "execution_count": null,
   "metadata": {},
   "outputs": [],
   "source": [
    "item2=Product()\n",
    "# dinamik özellik tanımı\n",
    "item2_name =\"Computer\"\n",
    "item2_price=1999.99\n",
    "item2_quantity=3"
   ]
  },
  {
   "cell_type": "code",
   "execution_count": null,
   "metadata": {},
   "outputs": [],
   "source": [
    "\n",
    "print(item2.__name)\n",
    "print(item2.__price)\n",
    "print(item2.__quantity)"
   ]
  },
  {
   "cell_type": "code",
   "execution_count": null,
   "metadata": {},
   "outputs": [],
   "source": [
    "item3= Product(\"Keyboard\",25,99)\n",
    "print(item3.__name)\n",
    "print(item3.__price)\n",
    "print(item3.__quantity)"
   ]
  }
 ],
 "metadata": {
  "kernelspec": {
   "display_name": "Python 3",
   "language": "python",
   "name": "python3"
  },
  "language_info": {
   "codemirror_mode": {
    "name": "ipython",
    "version": 3
   },
   "file_extension": ".py",
   "mimetype": "text/x-python",
   "name": "python",
   "nbconvert_exporter": "python",
   "pygments_lexer": "ipython3",
   "version": "3.13.0"
  }
 },
 "nbformat": 4,
 "nbformat_minor": 2
}
