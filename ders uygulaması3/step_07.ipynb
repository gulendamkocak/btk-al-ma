{
 "cells": [
  {
   "cell_type": "code",
   "execution_count": 1,
   "metadata": {},
   "outputs": [],
   "source": [
    "class Product(object):\n",
    "    def __init__(self, name=\"Default\", price=0, quantity=1):\n",
    "        print(f\"An instance with name:{name} has been derived from Product class.\")\n",
    "        self.__name = name\n",
    "        self.__price = price\n",
    "        self.__quantity = quantity\n",
    "        \n",
    "        @property\n",
    "        def name(self):\n",
    "            return self.__name\n",
    "        \n",
    "        @name.setter\n",
    "        def name(self,value):\n",
    "           self.__name=value \n",
    "           \n",
    "        @property\n",
    "        def price(self):\n",
    "            return self.__price\n",
    "           \n",
    "        @price.setter\n",
    "        def price(self,value):\n",
    "           self.__price=value \n",
    "           \n",
    "        @property\n",
    "        def quantity(self):\n",
    "            return self.__quantity\n",
    "        \n",
    "        @quantity.setter\n",
    "        def quantity(self,value):\n",
    "           self.__quantity=value \n",
    "        \n",
    "        def get_total_price(self):\n",
    "            \n",
    "             return self.__price*self.__quantity\n",
    "         \n",
    "        def __repr__(self):\n",
    "             return f\"{self.__name}-{self.__price}-{self.__quantity}\"\n",
    "        \n",
    "        \n",
    "        \n",
    "    \n",
    "\n"
   ]
  },
  {
   "cell_type": "code",
   "execution_count": 2,
   "metadata": {},
   "outputs": [
    {
     "name": "stdout",
     "output_type": "stream",
     "text": [
      "An instance with name:Laptop has been derived from Product class.\n",
      "<__main__.Product object at 0x0000021ED4B83E00>\n"
     ]
    }
   ],
   "source": [
    "item1=Product(\"Laptop\",799.99,2)\n",
    "item1.__name = \"HP Laptop\"\n",
    "print(item1)"
   ]
  },
  {
   "cell_type": "code",
   "execution_count": 3,
   "metadata": {},
   "outputs": [
    {
     "name": "stdout",
     "output_type": "stream",
     "text": [
      "An instance with name:Computer has been derived from Product class.\n",
      "<__main__.Product object at 0x0000021ED4B4A990>\n"
     ]
    }
   ],
   "source": [
    "item2=Product(\"Computer\")\n",
    "item2_price=1999.99\n",
    "item2_quantity=3\n",
    "print(item2)"
   ]
  },
  {
   "cell_type": "code",
   "execution_count": 4,
   "metadata": {},
   "outputs": [
    {
     "name": "stdout",
     "output_type": "stream",
     "text": [
      "An instance with name:Keyboard has been derived from Product class.\n",
      "<__main__.Product object at 0x0000021ED4B4A850>\n"
     ]
    }
   ],
   "source": [
    "item3= Product(\"Keyboard\",25,99)\n",
    "print(item3)"
   ]
  },
  {
   "cell_type": "code",
   "execution_count": null,
   "metadata": {},
   "outputs": [],
   "source": []
  },
  {
   "cell_type": "code",
   "execution_count": 5,
   "metadata": {},
   "outputs": [
    {
     "name": "stdout",
     "output_type": "stream",
     "text": [
      "Ad: Ali, Yaş: 20, Öğrenci No: 12345\n",
      "Ad: Ayşe, Yaş: 35, Ders: Matematik\n"
     ]
    }
   ],
   "source": [
    "\n",
    "class Person:\n",
    "    def __init__(self, ad, yas):\n",
    "        self.ad = ad\n",
    "        self.yas = yas\n",
    "\n",
    "    def bilgileri_goster(self):\n",
    "        return f\"Ad: {self.ad}, Yaş: {self.yas}\"\n",
    "\n",
    "\n",
    "class Student(Person):\n",
    "    def __init__(self, ad, yas, ogrenci_no):\n",
    "        super().__init__(ad, yas)\n",
    "        self.ogrenci_no = ogrenci_no\n",
    "\n",
    "    def bilgileri_goster(self):\n",
    "        return f\"Ad: {self.ad}, Yaş: {self.yas}, Öğrenci No: {self.ogrenci_no}\"\n",
    "\n",
    "\n",
    "class Teacher(Person):\n",
    "    def __init__(self, ad, yas, ders):\n",
    "        super().__init__(ad, yas)\n",
    "        self.ders = ders\n",
    "\n",
    "    def bilgileri_goster(self):\n",
    "        return f\"Ad: {self.ad}, Yaş: {self.yas}, Ders: {self.ders}\"\n",
    "\n",
    "\n",
    "ogrenci = Student(\"Ali\", 20, \"12345\")\n",
    "ogretmen = Teacher(\"Ayşe\", 35, \"Matematik\")\n",
    "\n",
    "print(ogrenci.bilgileri_goster())\n",
    "print(ogretmen.bilgileri_goster())"
   ]
  }
 ],
 "metadata": {
  "kernelspec": {
   "display_name": "Python 3",
   "language": "python",
   "name": "python3"
  },
  "language_info": {
   "codemirror_mode": {
    "name": "ipython",
    "version": 3
   },
   "file_extension": ".py",
   "mimetype": "text/x-python",
   "name": "python",
   "nbconvert_exporter": "python",
   "pygments_lexer": "ipython3",
   "version": "3.13.0"
  }
 },
 "nbformat": 4,
 "nbformat_minor": 2
}
